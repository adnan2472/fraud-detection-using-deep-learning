{
  "nbformat": 4,
  "nbformat_minor": 0,
  "metadata": {
    "colab": {
      "name": "fraudulent detection using deep learning.ipynb",
      "provenance": []
    },
    "kernelspec": {
      "name": "python3",
      "display_name": "Python 3"
    },
    "accelerator": "TPU"
  },
  "cells": [
    {
      "cell_type": "code",
      "metadata": {
        "id": "GKIMv4KcZI_p"
      },
      "source": [
        "import pandas as pd\r\n",
        "import numpy as np\r\n",
        "import tensorflow as tf\r\n",
        "import keras\r\n",
        "import os\r\n",
        "import matplotlib.pyplot as plt\r\n",
        "import seaborn as sns"
      ],
      "execution_count": 237,
      "outputs": []
    },
    {
      "cell_type": "code",
      "metadata": {
        "colab": {
          "base_uri": "https://localhost:8080/"
        },
        "id": "qOAuAR1jwBxA",
        "outputId": "6fd8d9f4-2fa4-4f38-8a0c-e31d670f2aff"
      },
      "source": [
        "ls"
      ],
      "execution_count": 238,
      "outputs": [
        {
          "output_type": "stream",
          "text": [
            "test_data.csv  train_data.csv\n"
          ],
          "name": "stdout"
        }
      ]
    },
    {
      "cell_type": "code",
      "metadata": {
        "colab": {
          "base_uri": "https://localhost:8080/"
        },
        "id": "TEyKPyDqCw5G",
        "outputId": "3675e494-7ffb-4f61-b444-ca11681d3945"
      },
      "source": [
        "cd drive/"
      ],
      "execution_count": 239,
      "outputs": [
        {
          "output_type": "stream",
          "text": [
            "[Errno 2] No such file or directory: 'drive/'\n",
            "/content/drive/MyDrive/fraudulent dataset\n"
          ],
          "name": "stdout"
        }
      ]
    },
    {
      "cell_type": "code",
      "metadata": {
        "colab": {
          "base_uri": "https://localhost:8080/"
        },
        "id": "Hz5cHICiC3AE",
        "outputId": "9772dacd-024e-4399-8a81-0a98ee582b94"
      },
      "source": [
        "ls"
      ],
      "execution_count": 240,
      "outputs": [
        {
          "output_type": "stream",
          "text": [
            "test_data.csv  train_data.csv\n"
          ],
          "name": "stdout"
        }
      ]
    },
    {
      "cell_type": "code",
      "metadata": {
        "colab": {
          "base_uri": "https://localhost:8080/"
        },
        "id": "JuVjnxQIC5IB",
        "outputId": "b1d33b07-d3a9-4281-cd10-3cb7361bf875"
      },
      "source": [
        "cd MyDrive/"
      ],
      "execution_count": 241,
      "outputs": [
        {
          "output_type": "stream",
          "text": [
            "[Errno 2] No such file or directory: 'MyDrive/'\n",
            "/content/drive/MyDrive/fraudulent dataset\n"
          ],
          "name": "stdout"
        }
      ]
    },
    {
      "cell_type": "code",
      "metadata": {
        "colab": {
          "base_uri": "https://localhost:8080/"
        },
        "id": "-D7dIouDwZYr",
        "outputId": "6e3448d4-4289-4267-925f-bb356399b8f8"
      },
      "source": [
        "cd fraudulent\\ dataset"
      ],
      "execution_count": 242,
      "outputs": [
        {
          "output_type": "stream",
          "text": [
            "[Errno 2] No such file or directory: 'fraudulent dataset'\n",
            "/content/drive/MyDrive/fraudulent dataset\n"
          ],
          "name": "stdout"
        }
      ]
    },
    {
      "cell_type": "code",
      "metadata": {
        "colab": {
          "base_uri": "https://localhost:8080/"
        },
        "id": "VpPWpbfIw2my",
        "outputId": "a91cd36d-07b4-4d0a-f42d-e0c7b669fe12"
      },
      "source": [
        "ls"
      ],
      "execution_count": 243,
      "outputs": [
        {
          "output_type": "stream",
          "text": [
            "test_data.csv  train_data.csv\n"
          ],
          "name": "stdout"
        }
      ]
    },
    {
      "cell_type": "code",
      "metadata": {
        "id": "gyT67MdIw9-c"
      },
      "source": [
        "train_set = pd.read_csv('train_data.csv')"
      ],
      "execution_count": 244,
      "outputs": []
    },
    {
      "cell_type": "code",
      "metadata": {
        "id": "PM_gLkVIxzEW"
      },
      "source": [
        "test_set = pd.read_csv('test_data.csv')"
      ],
      "execution_count": 245,
      "outputs": []
    },
    {
      "cell_type": "code",
      "metadata": {
        "colab": {
          "base_uri": "https://localhost:8080/",
          "height": 215
        },
        "id": "ATn96QJ5ytCb",
        "outputId": "8e4269aa-d330-46a9-bc6d-ba4bdf652848"
      },
      "source": [
        "train_set.head()"
      ],
      "execution_count": 246,
      "outputs": [
        {
          "output_type": "execute_result",
          "data": {
            "text/html": [
              "<div>\n",
              "<style scoped>\n",
              "    .dataframe tbody tr th:only-of-type {\n",
              "        vertical-align: middle;\n",
              "    }\n",
              "\n",
              "    .dataframe tbody tr th {\n",
              "        vertical-align: top;\n",
              "    }\n",
              "\n",
              "    .dataframe thead th {\n",
              "        text-align: right;\n",
              "    }\n",
              "</style>\n",
              "<table border=\"1\" class=\"dataframe\">\n",
              "  <thead>\n",
              "    <tr style=\"text-align: right;\">\n",
              "      <th></th>\n",
              "      <th>Provider</th>\n",
              "      <th>PotentialFraud</th>\n",
              "      <th>InscClaimAmtReimbursed</th>\n",
              "      <th>DeductibleAmtPaid</th>\n",
              "      <th>AdmitDays</th>\n",
              "      <th>Gender</th>\n",
              "      <th>Race</th>\n",
              "      <th>RenalDiseaseIndicator</th>\n",
              "      <th>NoOfMonths_PartACov</th>\n",
              "      <th>NoOfMonths_PartBCov</th>\n",
              "      <th>ChronicCond_Alzheimer</th>\n",
              "      <th>ChronicCond_Heartfailure</th>\n",
              "      <th>ChronicCond_KidneyDisease</th>\n",
              "      <th>ChronicCond_Cancer</th>\n",
              "      <th>ChronicCond_ObstrPulmonary</th>\n",
              "      <th>ChronicCond_Depression</th>\n",
              "      <th>ChronicCond_Diabetes</th>\n",
              "      <th>ChronicCond_IschemicHeart</th>\n",
              "      <th>ChronicCond_Osteoporasis</th>\n",
              "      <th>ChronicCond_rheumatoidarthritis</th>\n",
              "      <th>ChronicCond_stroke</th>\n",
              "      <th>IPAnnualReimbursementAmt</th>\n",
              "      <th>IPAnnualDeductibleAmt</th>\n",
              "      <th>OPAnnualReimbursementAmt</th>\n",
              "      <th>OPAnnualDeductibleAmt</th>\n",
              "      <th>Age</th>\n",
              "      <th>IsDead</th>\n",
              "    </tr>\n",
              "  </thead>\n",
              "  <tbody>\n",
              "    <tr>\n",
              "      <th>0</th>\n",
              "      <td>PRV51001</td>\n",
              "      <td>0</td>\n",
              "      <td>20</td>\n",
              "      <td>0</td>\n",
              "      <td>7</td>\n",
              "      <td>1</td>\n",
              "      <td>1</td>\n",
              "      <td>1</td>\n",
              "      <td>12</td>\n",
              "      <td>12</td>\n",
              "      <td>1</td>\n",
              "      <td>1</td>\n",
              "      <td>1</td>\n",
              "      <td>1</td>\n",
              "      <td>2</td>\n",
              "      <td>2</td>\n",
              "      <td>1</td>\n",
              "      <td>1</td>\n",
              "      <td>2</td>\n",
              "      <td>2</td>\n",
              "      <td>2</td>\n",
              "      <td>0</td>\n",
              "      <td>0</td>\n",
              "      <td>300</td>\n",
              "      <td>110</td>\n",
              "      <td>80</td>\n",
              "      <td>0</td>\n",
              "    </tr>\n",
              "    <tr>\n",
              "      <th>1</th>\n",
              "      <td>PRV51001</td>\n",
              "      <td>0</td>\n",
              "      <td>700</td>\n",
              "      <td>0</td>\n",
              "      <td>7</td>\n",
              "      <td>1</td>\n",
              "      <td>1</td>\n",
              "      <td>0</td>\n",
              "      <td>12</td>\n",
              "      <td>12</td>\n",
              "      <td>1</td>\n",
              "      <td>2</td>\n",
              "      <td>2</td>\n",
              "      <td>2</td>\n",
              "      <td>2</td>\n",
              "      <td>2</td>\n",
              "      <td>1</td>\n",
              "      <td>1</td>\n",
              "      <td>1</td>\n",
              "      <td>2</td>\n",
              "      <td>1</td>\n",
              "      <td>0</td>\n",
              "      <td>0</td>\n",
              "      <td>720</td>\n",
              "      <td>10</td>\n",
              "      <td>67</td>\n",
              "      <td>0</td>\n",
              "    </tr>\n",
              "    <tr>\n",
              "      <th>2</th>\n",
              "      <td>PRV51001</td>\n",
              "      <td>0</td>\n",
              "      <td>900</td>\n",
              "      <td>0</td>\n",
              "      <td>7</td>\n",
              "      <td>2</td>\n",
              "      <td>1</td>\n",
              "      <td>0</td>\n",
              "      <td>12</td>\n",
              "      <td>12</td>\n",
              "      <td>2</td>\n",
              "      <td>2</td>\n",
              "      <td>1</td>\n",
              "      <td>2</td>\n",
              "      <td>2</td>\n",
              "      <td>2</td>\n",
              "      <td>1</td>\n",
              "      <td>1</td>\n",
              "      <td>2</td>\n",
              "      <td>1</td>\n",
              "      <td>2</td>\n",
              "      <td>0</td>\n",
              "      <td>0</td>\n",
              "      <td>1380</td>\n",
              "      <td>370</td>\n",
              "      <td>76</td>\n",
              "      <td>0</td>\n",
              "    </tr>\n",
              "    <tr>\n",
              "      <th>3</th>\n",
              "      <td>PRV51001</td>\n",
              "      <td>0</td>\n",
              "      <td>500</td>\n",
              "      <td>0</td>\n",
              "      <td>7</td>\n",
              "      <td>1</td>\n",
              "      <td>1</td>\n",
              "      <td>0</td>\n",
              "      <td>12</td>\n",
              "      <td>12</td>\n",
              "      <td>1</td>\n",
              "      <td>1</td>\n",
              "      <td>1</td>\n",
              "      <td>1</td>\n",
              "      <td>1</td>\n",
              "      <td>1</td>\n",
              "      <td>1</td>\n",
              "      <td>1</td>\n",
              "      <td>2</td>\n",
              "      <td>2</td>\n",
              "      <td>2</td>\n",
              "      <td>2020</td>\n",
              "      <td>1068</td>\n",
              "      <td>6700</td>\n",
              "      <td>2700</td>\n",
              "      <td>74</td>\n",
              "      <td>0</td>\n",
              "    </tr>\n",
              "    <tr>\n",
              "      <th>4</th>\n",
              "      <td>PRV51001</td>\n",
              "      <td>0</td>\n",
              "      <td>36000</td>\n",
              "      <td>1068</td>\n",
              "      <td>5</td>\n",
              "      <td>1</td>\n",
              "      <td>1</td>\n",
              "      <td>0</td>\n",
              "      <td>12</td>\n",
              "      <td>12</td>\n",
              "      <td>2</td>\n",
              "      <td>1</td>\n",
              "      <td>1</td>\n",
              "      <td>2</td>\n",
              "      <td>2</td>\n",
              "      <td>1</td>\n",
              "      <td>1</td>\n",
              "      <td>1</td>\n",
              "      <td>2</td>\n",
              "      <td>2</td>\n",
              "      <td>1</td>\n",
              "      <td>36000</td>\n",
              "      <td>1068</td>\n",
              "      <td>3520</td>\n",
              "      <td>140</td>\n",
              "      <td>69</td>\n",
              "      <td>0</td>\n",
              "    </tr>\n",
              "  </tbody>\n",
              "</table>\n",
              "</div>"
            ],
            "text/plain": [
              "   Provider  PotentialFraud  ...  Age  IsDead\n",
              "0  PRV51001               0  ...   80       0\n",
              "1  PRV51001               0  ...   67       0\n",
              "2  PRV51001               0  ...   76       0\n",
              "3  PRV51001               0  ...   74       0\n",
              "4  PRV51001               0  ...   69       0\n",
              "\n",
              "[5 rows x 27 columns]"
            ]
          },
          "metadata": {
            "tags": []
          },
          "execution_count": 246
        }
      ]
    },
    {
      "cell_type": "code",
      "metadata": {
        "colab": {
          "base_uri": "https://localhost:8080/",
          "height": 215
        },
        "id": "av-pdcu7zEFu",
        "outputId": "01ddef48-c2e9-4e7a-8ae1-fab2ec10ae1e"
      },
      "source": [
        "test_set.head()"
      ],
      "execution_count": 247,
      "outputs": [
        {
          "output_type": "execute_result",
          "data": {
            "text/html": [
              "<div>\n",
              "<style scoped>\n",
              "    .dataframe tbody tr th:only-of-type {\n",
              "        vertical-align: middle;\n",
              "    }\n",
              "\n",
              "    .dataframe tbody tr th {\n",
              "        vertical-align: top;\n",
              "    }\n",
              "\n",
              "    .dataframe thead th {\n",
              "        text-align: right;\n",
              "    }\n",
              "</style>\n",
              "<table border=\"1\" class=\"dataframe\">\n",
              "  <thead>\n",
              "    <tr style=\"text-align: right;\">\n",
              "      <th></th>\n",
              "      <th>Provider</th>\n",
              "      <th>PotentialFraud</th>\n",
              "      <th>InscClaimAmtReimbursed</th>\n",
              "      <th>DeductibleAmtPaid</th>\n",
              "      <th>AdmitDays</th>\n",
              "      <th>Gender</th>\n",
              "      <th>Race</th>\n",
              "      <th>RenalDiseaseIndicator</th>\n",
              "      <th>NoOfMonths_PartACov</th>\n",
              "      <th>NoOfMonths_PartBCov</th>\n",
              "      <th>ChronicCond_Alzheimer</th>\n",
              "      <th>ChronicCond_Heartfailure</th>\n",
              "      <th>ChronicCond_KidneyDisease</th>\n",
              "      <th>ChronicCond_Cancer</th>\n",
              "      <th>ChronicCond_ObstrPulmonary</th>\n",
              "      <th>ChronicCond_Depression</th>\n",
              "      <th>ChronicCond_Diabetes</th>\n",
              "      <th>ChronicCond_IschemicHeart</th>\n",
              "      <th>ChronicCond_Osteoporasis</th>\n",
              "      <th>ChronicCond_rheumatoidarthritis</th>\n",
              "      <th>ChronicCond_stroke</th>\n",
              "      <th>IPAnnualReimbursementAmt</th>\n",
              "      <th>IPAnnualDeductibleAmt</th>\n",
              "      <th>OPAnnualReimbursementAmt</th>\n",
              "      <th>OPAnnualDeductibleAmt</th>\n",
              "      <th>Age</th>\n",
              "      <th>IsDead</th>\n",
              "    </tr>\n",
              "  </thead>\n",
              "  <tbody>\n",
              "    <tr>\n",
              "      <th>0</th>\n",
              "      <td>PRV51001</td>\n",
              "      <td>0</td>\n",
              "      <td>20</td>\n",
              "      <td>0</td>\n",
              "      <td>7</td>\n",
              "      <td>1</td>\n",
              "      <td>1</td>\n",
              "      <td>1</td>\n",
              "      <td>12</td>\n",
              "      <td>12</td>\n",
              "      <td>1</td>\n",
              "      <td>1</td>\n",
              "      <td>1</td>\n",
              "      <td>1</td>\n",
              "      <td>2</td>\n",
              "      <td>2</td>\n",
              "      <td>1</td>\n",
              "      <td>1</td>\n",
              "      <td>2</td>\n",
              "      <td>2</td>\n",
              "      <td>2</td>\n",
              "      <td>0</td>\n",
              "      <td>0</td>\n",
              "      <td>300</td>\n",
              "      <td>110</td>\n",
              "      <td>80</td>\n",
              "      <td>0</td>\n",
              "    </tr>\n",
              "    <tr>\n",
              "      <th>1</th>\n",
              "      <td>PRV51001</td>\n",
              "      <td>0</td>\n",
              "      <td>700</td>\n",
              "      <td>0</td>\n",
              "      <td>7</td>\n",
              "      <td>1</td>\n",
              "      <td>1</td>\n",
              "      <td>0</td>\n",
              "      <td>12</td>\n",
              "      <td>12</td>\n",
              "      <td>1</td>\n",
              "      <td>2</td>\n",
              "      <td>2</td>\n",
              "      <td>2</td>\n",
              "      <td>2</td>\n",
              "      <td>2</td>\n",
              "      <td>1</td>\n",
              "      <td>1</td>\n",
              "      <td>1</td>\n",
              "      <td>2</td>\n",
              "      <td>1</td>\n",
              "      <td>0</td>\n",
              "      <td>0</td>\n",
              "      <td>720</td>\n",
              "      <td>10</td>\n",
              "      <td>67</td>\n",
              "      <td>0</td>\n",
              "    </tr>\n",
              "    <tr>\n",
              "      <th>2</th>\n",
              "      <td>PRV51001</td>\n",
              "      <td>0</td>\n",
              "      <td>900</td>\n",
              "      <td>0</td>\n",
              "      <td>7</td>\n",
              "      <td>2</td>\n",
              "      <td>1</td>\n",
              "      <td>0</td>\n",
              "      <td>12</td>\n",
              "      <td>12</td>\n",
              "      <td>2</td>\n",
              "      <td>2</td>\n",
              "      <td>1</td>\n",
              "      <td>2</td>\n",
              "      <td>2</td>\n",
              "      <td>2</td>\n",
              "      <td>1</td>\n",
              "      <td>1</td>\n",
              "      <td>2</td>\n",
              "      <td>1</td>\n",
              "      <td>2</td>\n",
              "      <td>0</td>\n",
              "      <td>0</td>\n",
              "      <td>1380</td>\n",
              "      <td>370</td>\n",
              "      <td>76</td>\n",
              "      <td>0</td>\n",
              "    </tr>\n",
              "    <tr>\n",
              "      <th>3</th>\n",
              "      <td>PRV51001</td>\n",
              "      <td>0</td>\n",
              "      <td>500</td>\n",
              "      <td>0</td>\n",
              "      <td>7</td>\n",
              "      <td>1</td>\n",
              "      <td>1</td>\n",
              "      <td>0</td>\n",
              "      <td>12</td>\n",
              "      <td>12</td>\n",
              "      <td>1</td>\n",
              "      <td>1</td>\n",
              "      <td>1</td>\n",
              "      <td>1</td>\n",
              "      <td>1</td>\n",
              "      <td>1</td>\n",
              "      <td>1</td>\n",
              "      <td>1</td>\n",
              "      <td>2</td>\n",
              "      <td>2</td>\n",
              "      <td>2</td>\n",
              "      <td>2020</td>\n",
              "      <td>1068</td>\n",
              "      <td>6700</td>\n",
              "      <td>2700</td>\n",
              "      <td>74</td>\n",
              "      <td>0</td>\n",
              "    </tr>\n",
              "    <tr>\n",
              "      <th>4</th>\n",
              "      <td>PRV51001</td>\n",
              "      <td>0</td>\n",
              "      <td>36000</td>\n",
              "      <td>1068</td>\n",
              "      <td>5</td>\n",
              "      <td>1</td>\n",
              "      <td>1</td>\n",
              "      <td>0</td>\n",
              "      <td>12</td>\n",
              "      <td>12</td>\n",
              "      <td>2</td>\n",
              "      <td>1</td>\n",
              "      <td>1</td>\n",
              "      <td>2</td>\n",
              "      <td>2</td>\n",
              "      <td>1</td>\n",
              "      <td>1</td>\n",
              "      <td>1</td>\n",
              "      <td>2</td>\n",
              "      <td>2</td>\n",
              "      <td>1</td>\n",
              "      <td>36000</td>\n",
              "      <td>1068</td>\n",
              "      <td>3520</td>\n",
              "      <td>140</td>\n",
              "      <td>69</td>\n",
              "      <td>0</td>\n",
              "    </tr>\n",
              "  </tbody>\n",
              "</table>\n",
              "</div>"
            ],
            "text/plain": [
              "   Provider  PotentialFraud  ...  Age  IsDead\n",
              "0  PRV51001               0  ...   80       0\n",
              "1  PRV51001               0  ...   67       0\n",
              "2  PRV51001               0  ...   76       0\n",
              "3  PRV51001               0  ...   74       0\n",
              "4  PRV51001               0  ...   69       0\n",
              "\n",
              "[5 rows x 27 columns]"
            ]
          },
          "metadata": {
            "tags": []
          },
          "execution_count": 247
        }
      ]
    },
    {
      "cell_type": "code",
      "metadata": {
        "colab": {
          "base_uri": "https://localhost:8080/"
        },
        "id": "r_J3rYz6zKtj",
        "outputId": "85035b35-8ce4-4f71-fe3c-c099a1572126"
      },
      "source": [
        "train_set.info()"
      ],
      "execution_count": 248,
      "outputs": [
        {
          "output_type": "stream",
          "text": [
            "<class 'pandas.core.frame.DataFrame'>\n",
            "RangeIndex: 558211 entries, 0 to 558210\n",
            "Data columns (total 27 columns):\n",
            " #   Column                           Non-Null Count   Dtype \n",
            "---  ------                           --------------   ----- \n",
            " 0   Provider                         558211 non-null  object\n",
            " 1   PotentialFraud                   558211 non-null  int64 \n",
            " 2   InscClaimAmtReimbursed           558211 non-null  int64 \n",
            " 3   DeductibleAmtPaid                558211 non-null  int64 \n",
            " 4   AdmitDays                        558211 non-null  int64 \n",
            " 5   Gender                           558211 non-null  int64 \n",
            " 6   Race                             558211 non-null  int64 \n",
            " 7   RenalDiseaseIndicator            558211 non-null  int64 \n",
            " 8   NoOfMonths_PartACov              558211 non-null  int64 \n",
            " 9   NoOfMonths_PartBCov              558211 non-null  int64 \n",
            " 10  ChronicCond_Alzheimer            558211 non-null  int64 \n",
            " 11  ChronicCond_Heartfailure         558211 non-null  int64 \n",
            " 12  ChronicCond_KidneyDisease        558211 non-null  int64 \n",
            " 13  ChronicCond_Cancer               558211 non-null  int64 \n",
            " 14  ChronicCond_ObstrPulmonary       558211 non-null  int64 \n",
            " 15  ChronicCond_Depression           558211 non-null  int64 \n",
            " 16  ChronicCond_Diabetes             558211 non-null  int64 \n",
            " 17  ChronicCond_IschemicHeart        558211 non-null  int64 \n",
            " 18  ChronicCond_Osteoporasis         558211 non-null  int64 \n",
            " 19  ChronicCond_rheumatoidarthritis  558211 non-null  int64 \n",
            " 20  ChronicCond_stroke               558211 non-null  int64 \n",
            " 21  IPAnnualReimbursementAmt         558211 non-null  int64 \n",
            " 22  IPAnnualDeductibleAmt            558211 non-null  int64 \n",
            " 23  OPAnnualReimbursementAmt         558211 non-null  int64 \n",
            " 24  OPAnnualDeductibleAmt            558211 non-null  int64 \n",
            " 25  Age                              558211 non-null  int64 \n",
            " 26  IsDead                           558211 non-null  int64 \n",
            "dtypes: int64(26), object(1)\n",
            "memory usage: 115.0+ MB\n"
          ],
          "name": "stdout"
        }
      ]
    },
    {
      "cell_type": "code",
      "metadata": {
        "colab": {
          "base_uri": "https://localhost:8080/",
          "height": 817
        },
        "id": "OtwZMKPYzMaL",
        "outputId": "be3267ef-b695-4d84-c361-0793605d1d8c"
      },
      "source": [
        "train_set.describe().transpose()"
      ],
      "execution_count": 249,
      "outputs": [
        {
          "output_type": "execute_result",
          "data": {
            "text/html": [
              "<div>\n",
              "<style scoped>\n",
              "    .dataframe tbody tr th:only-of-type {\n",
              "        vertical-align: middle;\n",
              "    }\n",
              "\n",
              "    .dataframe tbody tr th {\n",
              "        vertical-align: top;\n",
              "    }\n",
              "\n",
              "    .dataframe thead th {\n",
              "        text-align: right;\n",
              "    }\n",
              "</style>\n",
              "<table border=\"1\" class=\"dataframe\">\n",
              "  <thead>\n",
              "    <tr style=\"text-align: right;\">\n",
              "      <th></th>\n",
              "      <th>count</th>\n",
              "      <th>mean</th>\n",
              "      <th>std</th>\n",
              "      <th>min</th>\n",
              "      <th>25%</th>\n",
              "      <th>50%</th>\n",
              "      <th>75%</th>\n",
              "      <th>max</th>\n",
              "    </tr>\n",
              "  </thead>\n",
              "  <tbody>\n",
              "    <tr>\n",
              "      <th>PotentialFraud</th>\n",
              "      <td>558211.0</td>\n",
              "      <td>0.381211</td>\n",
              "      <td>0.485685</td>\n",
              "      <td>0.0</td>\n",
              "      <td>0.0</td>\n",
              "      <td>0.0</td>\n",
              "      <td>1.0</td>\n",
              "      <td>1.0</td>\n",
              "    </tr>\n",
              "    <tr>\n",
              "      <th>InscClaimAmtReimbursed</th>\n",
              "      <td>558211.0</td>\n",
              "      <td>997.012133</td>\n",
              "      <td>3821.534891</td>\n",
              "      <td>0.0</td>\n",
              "      <td>40.0</td>\n",
              "      <td>80.0</td>\n",
              "      <td>300.0</td>\n",
              "      <td>125000.0</td>\n",
              "    </tr>\n",
              "    <tr>\n",
              "      <th>DeductibleAmtPaid</th>\n",
              "      <td>558211.0</td>\n",
              "      <td>78.420407</td>\n",
              "      <td>273.796071</td>\n",
              "      <td>0.0</td>\n",
              "      <td>0.0</td>\n",
              "      <td>0.0</td>\n",
              "      <td>0.0</td>\n",
              "      <td>1068.0</td>\n",
              "    </tr>\n",
              "    <tr>\n",
              "      <th>AdmitDays</th>\n",
              "      <td>558211.0</td>\n",
              "      <td>6.975722</td>\n",
              "      <td>1.520756</td>\n",
              "      <td>1.0</td>\n",
              "      <td>7.0</td>\n",
              "      <td>7.0</td>\n",
              "      <td>7.0</td>\n",
              "      <td>36.0</td>\n",
              "    </tr>\n",
              "    <tr>\n",
              "      <th>Gender</th>\n",
              "      <td>558211.0</td>\n",
              "      <td>1.578838</td>\n",
              "      <td>0.493746</td>\n",
              "      <td>1.0</td>\n",
              "      <td>1.0</td>\n",
              "      <td>2.0</td>\n",
              "      <td>2.0</td>\n",
              "      <td>2.0</td>\n",
              "    </tr>\n",
              "    <tr>\n",
              "      <th>Race</th>\n",
              "      <td>558211.0</td>\n",
              "      <td>1.255011</td>\n",
              "      <td>0.717437</td>\n",
              "      <td>1.0</td>\n",
              "      <td>1.0</td>\n",
              "      <td>1.0</td>\n",
              "      <td>1.0</td>\n",
              "      <td>5.0</td>\n",
              "    </tr>\n",
              "    <tr>\n",
              "      <th>RenalDiseaseIndicator</th>\n",
              "      <td>558211.0</td>\n",
              "      <td>0.196786</td>\n",
              "      <td>0.397569</td>\n",
              "      <td>0.0</td>\n",
              "      <td>0.0</td>\n",
              "      <td>0.0</td>\n",
              "      <td>0.0</td>\n",
              "      <td>1.0</td>\n",
              "    </tr>\n",
              "    <tr>\n",
              "      <th>NoOfMonths_PartACov</th>\n",
              "      <td>558211.0</td>\n",
              "      <td>11.931472</td>\n",
              "      <td>0.889712</td>\n",
              "      <td>0.0</td>\n",
              "      <td>12.0</td>\n",
              "      <td>12.0</td>\n",
              "      <td>12.0</td>\n",
              "      <td>12.0</td>\n",
              "    </tr>\n",
              "    <tr>\n",
              "      <th>NoOfMonths_PartBCov</th>\n",
              "      <td>558211.0</td>\n",
              "      <td>11.938770</td>\n",
              "      <td>0.785900</td>\n",
              "      <td>0.0</td>\n",
              "      <td>12.0</td>\n",
              "      <td>12.0</td>\n",
              "      <td>12.0</td>\n",
              "      <td>12.0</td>\n",
              "    </tr>\n",
              "    <tr>\n",
              "      <th>ChronicCond_Alzheimer</th>\n",
              "      <td>558211.0</td>\n",
              "      <td>1.598132</td>\n",
              "      <td>0.490276</td>\n",
              "      <td>1.0</td>\n",
              "      <td>1.0</td>\n",
              "      <td>2.0</td>\n",
              "      <td>2.0</td>\n",
              "      <td>2.0</td>\n",
              "    </tr>\n",
              "    <tr>\n",
              "      <th>ChronicCond_Heartfailure</th>\n",
              "      <td>558211.0</td>\n",
              "      <td>1.409573</td>\n",
              "      <td>0.491755</td>\n",
              "      <td>1.0</td>\n",
              "      <td>1.0</td>\n",
              "      <td>1.0</td>\n",
              "      <td>2.0</td>\n",
              "      <td>2.0</td>\n",
              "    </tr>\n",
              "    <tr>\n",
              "      <th>ChronicCond_KidneyDisease</th>\n",
              "      <td>558211.0</td>\n",
              "      <td>1.587998</td>\n",
              "      <td>0.492196</td>\n",
              "      <td>1.0</td>\n",
              "      <td>1.0</td>\n",
              "      <td>2.0</td>\n",
              "      <td>2.0</td>\n",
              "      <td>2.0</td>\n",
              "    </tr>\n",
              "    <tr>\n",
              "      <th>ChronicCond_Cancer</th>\n",
              "      <td>558211.0</td>\n",
              "      <td>1.848615</td>\n",
              "      <td>0.358424</td>\n",
              "      <td>1.0</td>\n",
              "      <td>2.0</td>\n",
              "      <td>2.0</td>\n",
              "      <td>2.0</td>\n",
              "      <td>2.0</td>\n",
              "    </tr>\n",
              "    <tr>\n",
              "      <th>ChronicCond_ObstrPulmonary</th>\n",
              "      <td>558211.0</td>\n",
              "      <td>1.687070</td>\n",
              "      <td>0.463687</td>\n",
              "      <td>1.0</td>\n",
              "      <td>1.0</td>\n",
              "      <td>2.0</td>\n",
              "      <td>2.0</td>\n",
              "      <td>2.0</td>\n",
              "    </tr>\n",
              "    <tr>\n",
              "      <th>ChronicCond_Depression</th>\n",
              "      <td>558211.0</td>\n",
              "      <td>1.565193</td>\n",
              "      <td>0.495732</td>\n",
              "      <td>1.0</td>\n",
              "      <td>1.0</td>\n",
              "      <td>2.0</td>\n",
              "      <td>2.0</td>\n",
              "      <td>2.0</td>\n",
              "    </tr>\n",
              "    <tr>\n",
              "      <th>ChronicCond_Diabetes</th>\n",
              "      <td>558211.0</td>\n",
              "      <td>1.294605</td>\n",
              "      <td>0.455866</td>\n",
              "      <td>1.0</td>\n",
              "      <td>1.0</td>\n",
              "      <td>1.0</td>\n",
              "      <td>2.0</td>\n",
              "      <td>2.0</td>\n",
              "    </tr>\n",
              "    <tr>\n",
              "      <th>ChronicCond_IschemicHeart</th>\n",
              "      <td>558211.0</td>\n",
              "      <td>1.240735</td>\n",
              "      <td>0.427530</td>\n",
              "      <td>1.0</td>\n",
              "      <td>1.0</td>\n",
              "      <td>1.0</td>\n",
              "      <td>1.0</td>\n",
              "      <td>2.0</td>\n",
              "    </tr>\n",
              "    <tr>\n",
              "      <th>ChronicCond_Osteoporasis</th>\n",
              "      <td>558211.0</td>\n",
              "      <td>1.682353</td>\n",
              "      <td>0.465562</td>\n",
              "      <td>1.0</td>\n",
              "      <td>1.0</td>\n",
              "      <td>2.0</td>\n",
              "      <td>2.0</td>\n",
              "      <td>2.0</td>\n",
              "    </tr>\n",
              "    <tr>\n",
              "      <th>ChronicCond_rheumatoidarthritis</th>\n",
              "      <td>558211.0</td>\n",
              "      <td>1.688829</td>\n",
              "      <td>0.462973</td>\n",
              "      <td>1.0</td>\n",
              "      <td>1.0</td>\n",
              "      <td>2.0</td>\n",
              "      <td>2.0</td>\n",
              "      <td>2.0</td>\n",
              "    </tr>\n",
              "    <tr>\n",
              "      <th>ChronicCond_stroke</th>\n",
              "      <td>558211.0</td>\n",
              "      <td>1.898280</td>\n",
              "      <td>0.302279</td>\n",
              "      <td>1.0</td>\n",
              "      <td>2.0</td>\n",
              "      <td>2.0</td>\n",
              "      <td>2.0</td>\n",
              "      <td>2.0</td>\n",
              "    </tr>\n",
              "    <tr>\n",
              "      <th>IPAnnualReimbursementAmt</th>\n",
              "      <td>558211.0</td>\n",
              "      <td>5227.971466</td>\n",
              "      <td>11786.274732</td>\n",
              "      <td>-8000.0</td>\n",
              "      <td>0.0</td>\n",
              "      <td>0.0</td>\n",
              "      <td>6000.0</td>\n",
              "      <td>161470.0</td>\n",
              "    </tr>\n",
              "    <tr>\n",
              "      <th>IPAnnualDeductibleAmt</th>\n",
              "      <td>558211.0</td>\n",
              "      <td>568.756807</td>\n",
              "      <td>1179.172616</td>\n",
              "      <td>0.0</td>\n",
              "      <td>0.0</td>\n",
              "      <td>0.0</td>\n",
              "      <td>1068.0</td>\n",
              "      <td>38272.0</td>\n",
              "    </tr>\n",
              "    <tr>\n",
              "      <th>OPAnnualReimbursementAmt</th>\n",
              "      <td>558211.0</td>\n",
              "      <td>2278.225348</td>\n",
              "      <td>3881.846386</td>\n",
              "      <td>-70.0</td>\n",
              "      <td>460.0</td>\n",
              "      <td>1170.0</td>\n",
              "      <td>2590.0</td>\n",
              "      <td>102960.0</td>\n",
              "    </tr>\n",
              "    <tr>\n",
              "      <th>OPAnnualDeductibleAmt</th>\n",
              "      <td>558211.0</td>\n",
              "      <td>649.698745</td>\n",
              "      <td>1002.020811</td>\n",
              "      <td>0.0</td>\n",
              "      <td>120.0</td>\n",
              "      <td>340.0</td>\n",
              "      <td>790.0</td>\n",
              "      <td>13840.0</td>\n",
              "    </tr>\n",
              "    <tr>\n",
              "      <th>Age</th>\n",
              "      <td>558211.0</td>\n",
              "      <td>73.769770</td>\n",
              "      <td>13.022524</td>\n",
              "      <td>26.0</td>\n",
              "      <td>68.0</td>\n",
              "      <td>75.0</td>\n",
              "      <td>82.0</td>\n",
              "      <td>101.0</td>\n",
              "    </tr>\n",
              "    <tr>\n",
              "      <th>IsDead</th>\n",
              "      <td>558211.0</td>\n",
              "      <td>0.007400</td>\n",
              "      <td>0.085707</td>\n",
              "      <td>0.0</td>\n",
              "      <td>0.0</td>\n",
              "      <td>0.0</td>\n",
              "      <td>0.0</td>\n",
              "      <td>1.0</td>\n",
              "    </tr>\n",
              "  </tbody>\n",
              "</table>\n",
              "</div>"
            ],
            "text/plain": [
              "                                    count         mean  ...     75%       max\n",
              "PotentialFraud                   558211.0     0.381211  ...     1.0       1.0\n",
              "InscClaimAmtReimbursed           558211.0   997.012133  ...   300.0  125000.0\n",
              "DeductibleAmtPaid                558211.0    78.420407  ...     0.0    1068.0\n",
              "AdmitDays                        558211.0     6.975722  ...     7.0      36.0\n",
              "Gender                           558211.0     1.578838  ...     2.0       2.0\n",
              "Race                             558211.0     1.255011  ...     1.0       5.0\n",
              "RenalDiseaseIndicator            558211.0     0.196786  ...     0.0       1.0\n",
              "NoOfMonths_PartACov              558211.0    11.931472  ...    12.0      12.0\n",
              "NoOfMonths_PartBCov              558211.0    11.938770  ...    12.0      12.0\n",
              "ChronicCond_Alzheimer            558211.0     1.598132  ...     2.0       2.0\n",
              "ChronicCond_Heartfailure         558211.0     1.409573  ...     2.0       2.0\n",
              "ChronicCond_KidneyDisease        558211.0     1.587998  ...     2.0       2.0\n",
              "ChronicCond_Cancer               558211.0     1.848615  ...     2.0       2.0\n",
              "ChronicCond_ObstrPulmonary       558211.0     1.687070  ...     2.0       2.0\n",
              "ChronicCond_Depression           558211.0     1.565193  ...     2.0       2.0\n",
              "ChronicCond_Diabetes             558211.0     1.294605  ...     2.0       2.0\n",
              "ChronicCond_IschemicHeart        558211.0     1.240735  ...     1.0       2.0\n",
              "ChronicCond_Osteoporasis         558211.0     1.682353  ...     2.0       2.0\n",
              "ChronicCond_rheumatoidarthritis  558211.0     1.688829  ...     2.0       2.0\n",
              "ChronicCond_stroke               558211.0     1.898280  ...     2.0       2.0\n",
              "IPAnnualReimbursementAmt         558211.0  5227.971466  ...  6000.0  161470.0\n",
              "IPAnnualDeductibleAmt            558211.0   568.756807  ...  1068.0   38272.0\n",
              "OPAnnualReimbursementAmt         558211.0  2278.225348  ...  2590.0  102960.0\n",
              "OPAnnualDeductibleAmt            558211.0   649.698745  ...   790.0   13840.0\n",
              "Age                              558211.0    73.769770  ...    82.0     101.0\n",
              "IsDead                           558211.0     0.007400  ...     0.0       1.0\n",
              "\n",
              "[26 rows x 8 columns]"
            ]
          },
          "metadata": {
            "tags": []
          },
          "execution_count": 249
        }
      ]
    },
    {
      "cell_type": "code",
      "metadata": {
        "colab": {
          "base_uri": "https://localhost:8080/"
        },
        "id": "1cvILqejzXfR",
        "outputId": "89147c41-7d7e-4738-d96f-62937541cfcf"
      },
      "source": [
        "train_set.isnull().sum()"
      ],
      "execution_count": 250,
      "outputs": [
        {
          "output_type": "execute_result",
          "data": {
            "text/plain": [
              "Provider                           0\n",
              "PotentialFraud                     0\n",
              "InscClaimAmtReimbursed             0\n",
              "DeductibleAmtPaid                  0\n",
              "AdmitDays                          0\n",
              "Gender                             0\n",
              "Race                               0\n",
              "RenalDiseaseIndicator              0\n",
              "NoOfMonths_PartACov                0\n",
              "NoOfMonths_PartBCov                0\n",
              "ChronicCond_Alzheimer              0\n",
              "ChronicCond_Heartfailure           0\n",
              "ChronicCond_KidneyDisease          0\n",
              "ChronicCond_Cancer                 0\n",
              "ChronicCond_ObstrPulmonary         0\n",
              "ChronicCond_Depression             0\n",
              "ChronicCond_Diabetes               0\n",
              "ChronicCond_IschemicHeart          0\n",
              "ChronicCond_Osteoporasis           0\n",
              "ChronicCond_rheumatoidarthritis    0\n",
              "ChronicCond_stroke                 0\n",
              "IPAnnualReimbursementAmt           0\n",
              "IPAnnualDeductibleAmt              0\n",
              "OPAnnualReimbursementAmt           0\n",
              "OPAnnualDeductibleAmt              0\n",
              "Age                                0\n",
              "IsDead                             0\n",
              "dtype: int64"
            ]
          },
          "metadata": {
            "tags": []
          },
          "execution_count": 250
        }
      ]
    },
    {
      "cell_type": "code",
      "metadata": {
        "id": "ItEwwLNg4Tos"
      },
      "source": [
        "dict={} \r\n",
        "dict = train_set[\"PotentialFraud\"].value_counts()"
      ],
      "execution_count": 251,
      "outputs": []
    },
    {
      "cell_type": "code",
      "metadata": {
        "colab": {
          "base_uri": "https://localhost:8080/"
        },
        "id": "D6i2tFEHtaav",
        "outputId": "a5a35626-8b61-4da7-fc24-ccb6832b8c00"
      },
      "source": [
        "dict"
      ],
      "execution_count": 252,
      "outputs": [
        {
          "output_type": "execute_result",
          "data": {
            "text/plain": [
              "0    345415\n",
              "1    212796\n",
              "Name: PotentialFraud, dtype: int64"
            ]
          },
          "metadata": {
            "tags": []
          },
          "execution_count": 252
        }
      ]
    },
    {
      "cell_type": "code",
      "metadata": {
        "colab": {
          "base_uri": "https://localhost:8080/"
        },
        "id": "_u8aT0rgtbqL",
        "outputId": "0f4158a3-0f6f-448b-ccbf-be6832ffe0d5"
      },
      "source": [
        "dict.keys()"
      ],
      "execution_count": 253,
      "outputs": [
        {
          "output_type": "execute_result",
          "data": {
            "text/plain": [
              "Int64Index([0, 1], dtype='int64')"
            ]
          },
          "metadata": {
            "tags": []
          },
          "execution_count": 253
        }
      ]
    },
    {
      "cell_type": "code",
      "metadata": {
        "colab": {
          "base_uri": "https://localhost:8080/"
        },
        "id": "mqpIfZCqthlM",
        "outputId": "c46cc95d-af7f-4da6-b486-20ab815bd35d"
      },
      "source": [
        "dict.values"
      ],
      "execution_count": 254,
      "outputs": [
        {
          "output_type": "execute_result",
          "data": {
            "text/plain": [
              "array([345415, 212796])"
            ]
          },
          "metadata": {
            "tags": []
          },
          "execution_count": 254
        }
      ]
    },
    {
      "cell_type": "code",
      "metadata": {
        "id": "TsBlWMNQwpu9"
      },
      "source": [
        "keys = [0,1]"
      ],
      "execution_count": 255,
      "outputs": []
    },
    {
      "cell_type": "code",
      "metadata": {
        "colab": {
          "base_uri": "https://localhost:8080/",
          "height": 315
        },
        "id": "hJDhSlVPvUgT",
        "outputId": "85537ec7-a097-44da-886d-b6efada76e60"
      },
      "source": [
        "plt.bar(keys,dict.values)\r\n",
        "plt.xticks(keys,['not fraud','fraud'])"
      ],
      "execution_count": 256,
      "outputs": [
        {
          "output_type": "execute_result",
          "data": {
            "text/plain": [
              "([<matplotlib.axis.XTick at 0x7fc15b5363c8>,\n",
              "  <matplotlib.axis.XTick at 0x7fc15b536390>],\n",
              " [Text(0, 0, 'not fraud'), Text(0, 0, 'fraud')])"
            ]
          },
          "metadata": {
            "tags": []
          },
          "execution_count": 256
        },
        {
          "output_type": "display_data",
          "data": {
            "image/png": "[encoded data removed]",
            "text/plain": [
              "<Figure size 432x288 with 1 Axes>"
            ]
          },
          "metadata": {
            "tags": [],
            "needs_background": "light"
          }
        }
      ]
    },
    {
      "cell_type": "code",
      "metadata": {
        "id": "jcnotHJ5wid4",
        "colab": {
          "base_uri": "https://localhost:8080/",
          "height": 648
        },
        "outputId": "268b3712-e76c-449c-dc62-520247656706"
      },
      "source": [
        "fig_dims = (50, 20)\r\n",
        "fig, ax = plt.subplots(figsize=fig_dims)\r\n",
        "# sns.barplot(x = \"names\", y = \"values\", ax=ax, data=df)\r\n",
        "sns.countplot(train_set['Age'],hue=train_set['PotentialFraud'],data=train_set,ax=ax)"
      ],
      "execution_count": 257,
      "outputs": [
        {
          "output_type": "stream",
          "text": [
            "/usr/local/lib/python3.6/dist-packages/seaborn/_decorators.py:43: FutureWarning: Pass the following variable as a keyword arg: x. From version 0.12, the only valid positional argument will be `data`, and passing other arguments without an explicit keyword will result in an error or misinterpretation.\n",
            "  FutureWarning\n"
          ],
          "name": "stderr"
        },
        {
          "output_type": "execute_result",
          "data": {
            "text/plain": [
              "<matplotlib.axes._subplots.AxesSubplot at 0x7fc15a86ae10>"
            ]
          },
          "metadata": {
            "tags": []
          },
          "execution_count": 257
        },
        {
          "output_type": "display_data",
          "data": {
            "image/png": "[encoded data removed]",
            "text/plain": [
              "<Figure size 3600x1440 with 1 Axes>"
            ]
          },
          "metadata": {
            "tags": [],
            "needs_background": "light"
          }
        }
      ]
    },
    {
      "cell_type": "code",
      "metadata": {
        "colab": {
          "base_uri": "https://localhost:8080/",
          "height": 350
        },
        "id": "JCa0LaTz_bkP",
        "outputId": "76e2dbb0-de40-42bd-9d33-8ec247af9c23"
      },
      "source": [
        "sns.countplot(train_set['Gender'],hue=train_set['PotentialFraud'],data=train_set)"
      ],
      "execution_count": 258,
      "outputs": [
        {
          "output_type": "stream",
          "text": [
            "/usr/local/lib/python3.6/dist-packages/seaborn/_decorators.py:43: FutureWarning: Pass the following variable as a keyword arg: x. From version 0.12, the only valid positional argument will be `data`, and passing other arguments without an explicit keyword will result in an error or misinterpretation.\n",
            "  FutureWarning\n"
          ],
          "name": "stderr"
        },
        {
          "output_type": "execute_result",
          "data": {
            "text/plain": [
              "<matplotlib.axes._subplots.AxesSubplot at 0x7fc157225208>"
            ]
          },
          "metadata": {
            "tags": []
          },
          "execution_count": 258
        },
        {
          "output_type": "display_data",
          "data": {
            "image/png": "[encoded data removed]",
            "text/plain": [
              "<Figure size 432x288 with 1 Axes>"
            ]
          },
          "metadata": {
            "tags": [],
            "needs_background": "light"
          }
        }
      ]
    },
    {
      "cell_type": "code",
      "metadata": {
        "colab": {
          "base_uri": "https://localhost:8080/",
          "height": 350
        },
        "id": "DOPWaWexGACV",
        "outputId": "1f0111e9-3263-4b07-bcb4-5a0eea5af157"
      },
      "source": [
        "sns.countplot(train_set['IsDead'],hue=train_set['PotentialFraud'],data=train_set)"
      ],
      "execution_count": 259,
      "outputs": [
        {
          "output_type": "stream",
          "text": [
            "/usr/local/lib/python3.6/dist-packages/seaborn/_decorators.py:43: FutureWarning: Pass the following variable as a keyword arg: x. From version 0.12, the only valid positional argument will be `data`, and passing other arguments without an explicit keyword will result in an error or misinterpretation.\n",
            "  FutureWarning\n"
          ],
          "name": "stderr"
        },
        {
          "output_type": "execute_result",
          "data": {
            "text/plain": [
              "<matplotlib.axes._subplots.AxesSubplot at 0x7fc15bd35c50>"
            ]
          },
          "metadata": {
            "tags": []
          },
          "execution_count": 259
        },
        {
          "output_type": "display_data",
          "data": {
            "image/png": "[encoded data removed]",
            "text/plain": [
              "<Figure size 432x288 with 1 Axes>"
            ]
          },
          "metadata": {
            "tags": [],
            "needs_background": "light"
          }
        }
      ]
    },
    {
      "cell_type": "code",
      "metadata": {
        "colab": {
          "base_uri": "https://localhost:8080/"
        },
        "id": "211pCwkyGHyr",
        "outputId": "153aa951-6019-4340-b9b6-b91f63735fe8"
      },
      "source": [
        "train_set['IsDead'].value_counts()"
      ],
      "execution_count": 260,
      "outputs": [
        {
          "output_type": "execute_result",
          "data": {
            "text/plain": [
              "0    554080\n",
              "1      4131\n",
              "Name: IsDead, dtype: int64"
            ]
          },
          "metadata": {
            "tags": []
          },
          "execution_count": 260
        }
      ]
    },
    {
      "cell_type": "code",
      "metadata": {
        "id": "alOWSwSUJpK6"
      },
      "source": [
        "x = train_set.drop(['PotentialFraud','Provider'],axis=1).values\r\n",
        "y = train_set['PotentialFraud'].values"
      ],
      "execution_count": 361,
      "outputs": []
    },
    {
      "cell_type": "code",
      "metadata": {
        "id": "Gk7EliM6LmSM"
      },
      "source": [
        "from sklearn.model_selection import train_test_split\r\n",
        "from sklearn import preprocessing\r\n",
        "# x = preprocessing.normalize(x)\r\n",
        "x_train,x_test,y_train,y_test = train_test_split(x,y,test_size=0.2,random_state=1)"
      ],
      "execution_count": 362,
      "outputs": []
    },
    {
      "cell_type": "code",
      "metadata": {
        "id": "uGYPFPyYPBSK"
      },
      "source": [
        "from tensorflow.keras.models import Sequential\r\n",
        "from tensorflow.keras.layers import Dense, Activation\r\n",
        "from tensorflow.keras.optimizers import Adam"
      ],
      "execution_count": 363,
      "outputs": []
    },
    {
      "cell_type": "code",
      "metadata": {
        "id": "6DX8NW7aS1NM"
      },
      "source": [
        "model = Sequential()\r\n",
        "model.add(Dense(32,activation='relu',input_dim = x_train.shape[1]))\r\n",
        "model.add(Dense(32,activation='relu'))\r\n",
        "model.add(Dense(32,activation='relu'))\r\n",
        "model.add(Dense(32,activation='relu'))\r\n",
        "model.add(Dense(32,activation='relu'))\r\n",
        "model.add(Dense(32,activation='relu'))\r\n",
        "model.add(Dense(32,activation='relu'))\r\n",
        "model.add(Dense(32,activation='relu'))\r\n",
        "model.add(Dense(32,activation='relu'))\r\n",
        "model.add(Dense(32,activation='relu'))\r\n",
        "model.add(Dense(32,activation='relu'))\r\n",
        "model.add(Dense(32,activation='relu'))\r\n",
        "model.add(Dense(32,activation='relu'))\r\n",
        "model.add(Dense(32,activation='relu'))\r\n",
        "model.add(Dense(32,activation='relu'))\r\n",
        "model.add(Dense(32,activation='relu'))\r\n",
        "model.add(Dense(32,activation='relu'))\r\n",
        "model.add(Dense(1))\r\n",
        "opt = keras.optimizers.Adam(learning_rate=0.001)\r\n",
        "model.compile(optimizer=opt,loss='mean_squared_error',metrics=['accuracy'])"
      ],
      "execution_count": 364,
      "outputs": []
    },
    {
      "cell_type": "code",
      "metadata": {
        "colab": {
          "base_uri": "https://localhost:8080/"
        },
        "id": "ErfKW6q0S4Sa",
        "outputId": "d26fcee6-74a3-45f4-bd81-5c3a48e66e69"
      },
      "source": [
        "from sklearn.preprocessing import StandardScaler\r\n",
        "s_scaler = StandardScaler()\r\n",
        "x_train = s_scaler.fit_transform(x_train.astype(np.float))\r\n",
        "x_test = s_scaler.transform(x_test.astype(np.float))\r\n",
        "model.fit(x=x_train,y=y_train,\r\n",
        "          validation_data=(x_test,y_test),\r\n",
        "          batch_size=100,epochs=10)\r\n",
        "results = model.evaluate(x_test,y_test)\r\n",
        "print(\"accuracy = \" ,results[1]*100)\r\n",
        "model.summary()"
      ],
      "execution_count": 365,
      "outputs": [
        {
          "output_type": "stream",
          "text": [
            "Epoch 1/10\n",
            "4466/4466 [==============================] - 13s 3ms/step - loss: 0.2336 - accuracy: 0.6279 - val_loss: 0.2332 - val_accuracy: 0.6287\n",
            "Epoch 2/10\n",
            "4466/4466 [==============================] - 13s 3ms/step - loss: 0.2327 - accuracy: 0.6295 - val_loss: 0.2331 - val_accuracy: 0.6286\n",
            "Epoch 3/10\n",
            "4466/4466 [==============================] - 13s 3ms/step - loss: 0.2326 - accuracy: 0.6297 - val_loss: 0.2329 - val_accuracy: 0.6287\n",
            "Epoch 4/10\n",
            "4466/4466 [==============================] - 13s 3ms/step - loss: 0.2324 - accuracy: 0.6300 - val_loss: 0.2328 - val_accuracy: 0.6290\n",
            "Epoch 5/10\n",
            "4466/4466 [==============================] - 13s 3ms/step - loss: 0.2321 - accuracy: 0.6305 - val_loss: 0.2327 - val_accuracy: 0.6291\n",
            "Epoch 6/10\n",
            "4466/4466 [==============================] - 13s 3ms/step - loss: 0.2320 - accuracy: 0.6312 - val_loss: 0.2328 - val_accuracy: 0.6275\n",
            "Epoch 7/10\n",
            "4466/4466 [==============================] - 13s 3ms/step - loss: 0.2319 - accuracy: 0.6317 - val_loss: 0.2326 - val_accuracy: 0.6298\n",
            "Epoch 8/10\n",
            "4466/4466 [==============================] - 13s 3ms/step - loss: 0.2317 - accuracy: 0.6324 - val_loss: 0.2322 - val_accuracy: 0.6314\n",
            "Epoch 9/10\n",
            "4466/4466 [==============================] - 13s 3ms/step - loss: 0.2315 - accuracy: 0.6332 - val_loss: 0.2321 - val_accuracy: 0.6312\n",
            "Epoch 10/10\n",
            "4466/4466 [==============================] - 13s 3ms/step - loss: 0.2312 - accuracy: 0.6340 - val_loss: 0.2320 - val_accuracy: 0.6318\n",
            "3489/3489 [==============================] - 3s 964us/step - loss: 0.2320 - accuracy: 0.6318\n",
            "accuracy =  63.17548155784607\n",
            "Model: \"sequential_61\"\n",
            "_________________________________________________________________\n",
            "Layer (type)                 Output Shape              Param #   \n",
            "=================================================================\n",
            "dense_871 (Dense)            (None, 32)                832       \n",
            "_________________________________________________________________\n",
            "dense_872 (Dense)            (None, 32)                1056      \n",
            "_________________________________________________________________\n",
            "dense_873 (Dense)            (None, 32)                1056      \n",
            "_________________________________________________________________\n",
            "dense_874 (Dense)            (None, 32)                1056      \n",
            "_________________________________________________________________\n",
            "dense_875 (Dense)            (None, 32)                1056      \n",
            "_________________________________________________________________\n",
            "dense_876 (Dense)            (None, 32)                1056      \n",
            "_________________________________________________________________\n",
            "dense_877 (Dense)            (None, 32)                1056      \n",
            "_________________________________________________________________\n",
            "dense_878 (Dense)            (None, 32)                1056      \n",
            "_________________________________________________________________\n",
            "dense_879 (Dense)            (None, 32)                1056      \n",
            "_________________________________________________________________\n",
            "dense_880 (Dense)            (None, 32)                1056      \n",
            "_________________________________________________________________\n",
            "dense_881 (Dense)            (None, 32)                1056      \n",
            "_________________________________________________________________\n",
            "dense_882 (Dense)            (None, 32)                1056      \n",
            "_________________________________________________________________\n",
            "dense_883 (Dense)            (None, 32)                1056      \n",
            "_________________________________________________________________\n",
            "dense_884 (Dense)            (None, 32)                1056      \n",
            "_________________________________________________________________\n",
            "dense_885 (Dense)            (None, 32)                1056      \n",
            "_________________________________________________________________\n",
            "dense_886 (Dense)            (None, 32)                1056      \n",
            "_________________________________________________________________\n",
            "dense_887 (Dense)            (None, 32)                1056      \n",
            "_________________________________________________________________\n",
            "dense_888 (Dense)            (None, 1)                 33        \n",
            "=================================================================\n",
            "Total params: 17,761\n",
            "Trainable params: 17,761\n",
            "Non-trainable params: 0\n",
            "_________________________________________________________________\n"
          ],
          "name": "stdout"
        }
      ]
    },
    {
      "cell_type": "code",
      "metadata": {
        "colab": {
          "base_uri": "https://localhost:8080/"
        },
        "id": "1_1q2AIgS6NN",
        "outputId": "ee32eee4-848b-410c-88d5-51f7a2b8c813"
      },
      "source": [
        "y_pred = model.predict(x_test)\r\n",
        "y_pred"
      ],
      "execution_count": 366,
      "outputs": [
        {
          "output_type": "execute_result",
          "data": {
            "text/plain": [
              "array([[0.39923036],\n",
              "       [0.36138257],\n",
              "       [0.36138257],\n",
              "       ...,\n",
              "       [0.36138257],\n",
              "       [0.6024282 ],\n",
              "       [0.36138257]], dtype=float32)"
            ]
          },
          "metadata": {
            "tags": []
          },
          "execution_count": 366
        }
      ]
    },
    {
      "cell_type": "code",
      "metadata": {
        "colab": {
          "base_uri": "https://localhost:8080/"
        },
        "id": "WfAe2wS9cIq2",
        "outputId": "e0bc18ba-eb00-4297-eab7-7966f4d4c983"
      },
      "source": [
        "from sklearn import metrics\r\n",
        "print('MAE:', metrics.mean_absolute_error(y_test, y_pred))  \r\n",
        "print('MSE:', metrics.mean_squared_error(y_test, y_pred))  \r\n",
        "print('RMSE:', np.sqrt(metrics.mean_squared_error(y_test, y_pred)))\r\n",
        "print('VarScore:',metrics.explained_variance_score(y_test,y_pred))"
      ],
      "execution_count": 367,
      "outputs": [
        {
          "output_type": "stream",
          "text": [
            "MAE: 0.4646797855664479\n",
            "MSE: 0.23203981807722807\n",
            "RMSE: 0.481705115269942\n",
            "VarScore: 0.01850369552380282\n"
          ],
          "name": "stdout"
        }
      ]
    },
    {
      "cell_type": "code",
      "metadata": {
        "colab": {
          "base_uri": "https://localhost:8080/",
          "height": 337
        },
        "id": "T24xTctSc6xN",
        "outputId": "a9d04edc-3278-41f0-bd28-452556057d54"
      },
      "source": [
        "fig = plt.figure(figsize=(10,5))\r\n",
        "plt.scatter(y_test,y_pred)\r\n",
        "# Perfect predictions\r\n",
        "plt.plot(y_test,y_test,'r')"
      ],
      "execution_count": 369,
      "outputs": [
        {
          "output_type": "execute_result",
          "data": {
            "text/plain": [
              "[<matplotlib.lines.Line2D at 0x7fc14f653908>]"
            ]
          },
          "metadata": {
            "tags": []
          },
          "execution_count": 369
        },
        {
          "output_type": "display_data",
          "data": {
            "image/png": "[encoded data removed]",
            "text/plain": [
              "<Figure size 720x360 with 1 Axes>"
            ]
          },
          "metadata": {
            "tags": [],
            "needs_background": "light"
          }
        }
      ]
    }
  ]
}